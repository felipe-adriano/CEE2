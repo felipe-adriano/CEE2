{
  "nbformat": 4,
  "nbformat_minor": 0,
  "metadata": {
    "colab": {
      "provenance": [],
      "authorship_tag": "ABX9TyNuB2wRvwzx4+Zl/BtTrF+/",
      "include_colab_link": true
    },
    "kernelspec": {
      "name": "python3",
      "display_name": "Python 3"
    },
    "language_info": {
      "name": "python"
    }
  },
  "cells": [
    {
      "cell_type": "markdown",
      "metadata": {
        "id": "view-in-github",
        "colab_type": "text"
      },
      "source": [
        "<a href=\"https://colab.research.google.com/github/felipe-adriano/CEE2/blob/main/trabalho1.ipynb\" target=\"_parent\"><img src=\"https://colab.research.google.com/assets/colab-badge.svg\" alt=\"Open In Colab\"/></a>"
      ]
    },
    {
      "cell_type": "markdown",
      "source": [
        "Bosta."
      ],
      "metadata": {
        "id": "PsJDTLNccdHV"
      }
    },
    {
      "cell_type": "code",
      "execution_count": null,
      "metadata": {
        "colab": {
          "base_uri": "https://localhost:8080/"
        },
        "id": "K45wQ4J1cbr8",
        "outputId": "4f1e79eb-a332-4215-a4cd-80fd225543cf"
      },
      "outputs": [
        {
          "output_type": "stream",
          "name": "stdout",
          "text": [
            "type(response): <class 'requests.models.Response'>\n",
            "           data     valor  valor_anual\n",
            "0    02/01/2020  0.017089    70.524899\n",
            "1    03/01/2020  0.017089    70.524899\n",
            "2    06/01/2020  0.017089    70.524899\n",
            "3    07/01/2020  0.017089    70.524899\n",
            "4    08/01/2020  0.017089    70.524899\n",
            "..          ...       ...          ...\n",
            "246  24/12/2020  0.007469     5.522083\n",
            "247  28/12/2020  0.007469     5.522083\n",
            "248  29/12/2020  0.007469     5.522083\n",
            "249  30/12/2020  0.007469     5.522083\n",
            "250  31/12/2020  0.007469     5.522083\n",
            "\n",
            "[251 rows x 3 columns]\n",
            "\n",
            "SELIC Acumulada:\n",
            "13.943704950542177\n"
          ]
        }
      ],
      "source": [
        "import requests\n",
        "import pandas as pd\n",
        "\n",
        "codigo_serie = \"11\"\n",
        "dataInicial = \"01/01/2020\"\n",
        "dataFinal = \"31/12/2020\"\n",
        "url = f\"https://api.bcb.gov.br/dados/serie/bcdata.sgs.{codigo_serie}/dados?formato=json&dataInicial={dataInicial}&dataFinal={dataFinal}\"\n",
        "\n",
        "response = requests.get(url)\n",
        "\n",
        "print( \"type(response):\", type(response) )\n",
        "\n",
        "selic_json = response.json()\n",
        "\n",
        "selic_df = pd.DataFrame(selic_json)\n",
        "\n",
        "# Taxa Anual\n",
        "\n",
        "selic_df['valor'] = pd.to_numeric(selic_df['valor'], errors='coerce')\n",
        "\n",
        "\n",
        "selic_df['valor_anual'] = (1 + selic_df['valor'])** 252 - 1\n",
        "print(selic_df)\n",
        "\n",
        "\n",
        "acumulada = (1 + selic_df['valor']).prod() - 1\n",
        "print(\"\\nSELIC Acumulada:\")\n",
        "print(acumulada)\n"
      ]
    }
  ]
}